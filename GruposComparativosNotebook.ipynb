{
 "cells": [
  {
   "cell_type": "code",
   "execution_count": 1,
   "metadata": {
    "collapsed": true
   },
   "outputs": [],
   "source": [
    "import math\n",
    "import matplotlib.pyplot as plt\n",
    "import datetime\n",
    "import pandas as pd"
   ]
  },
  {
   "cell_type": "code",
   "execution_count": 2,
   "metadata": {
    "collapsed": false,
    "scrolled": true
   },
   "outputs": [
    {
     "name": "stdout",
     "output_type": "stream",
     "text": [
      "   Codigo do Municipio      Nome do Municipio  UF\n",
      "0              1100015  Alta Floresta D'Oeste  RO\n",
      "1              1100023              Ariquemes  RO\n",
      "2              1100031                 Cabixi  RO\n",
      "3              1100049                 Cacoal  RO\n",
      "4              1100056             Cerejeiras  RO\n",
      "5              1100064      Colorado do Oeste  RO\n",
      "6              1100072             Corumbiara  RO\n",
      "7              1100080          Costa Marques  RO\n",
      "8              1100098        Espigão D'Oeste  RO\n",
      "9              1100106          Guajará-Mirim  RO\n"
     ]
    }
   ],
   "source": [
    "cityMetadata = pd.read_csv('./raw_data/FIXO/municipios.csv', sep=',')\n",
    "print(cityMetadata.head(10))"
   ]
  },
  {
   "cell_type": "code",
   "execution_count": 3,
   "metadata": {
    "collapsed": false
   },
   "outputs": [
    {
     "data": {
      "text/plain": [
       "UF\n",
       "AC     22\n",
       "AL    102\n",
       "AM     62\n",
       "AP     16\n",
       "BA    417\n",
       "CE    184\n",
       "DF      1\n",
       "ES     78\n",
       "GO    246\n",
       "MA    217\n",
       "MG    853\n",
       "MS     78\n",
       "MT    141\n",
       "PA    143\n",
       "PB    223\n",
       "PE    185\n",
       "PI    224\n",
       "PR    399\n",
       "RJ     92\n",
       "RN    167\n",
       "RO     52\n",
       "RR     15\n",
       "RS    496\n",
       "SC    293\n",
       "SE     75\n",
       "SP    645\n",
       "TO    139\n",
       "Name: Codigo do Municipio, dtype: int64"
      ]
     },
     "execution_count": 3,
     "metadata": {},
     "output_type": "execute_result"
    }
   ],
   "source": [
    "cityMetadata.groupby(['UF'], axis=0)['Codigo do Municipio'].count()"
   ]
  },
  {
   "cell_type": "code",
   "execution_count": 4,
   "metadata": {
    "collapsed": false
   },
   "outputs": [],
   "source": [
    "#Some helper methods:\n",
    "def getLatestYear(df):\n",
    "    return \"2014\"\n",
    "    now = datetime.datetime.now()\n",
    "    STARTING_YEAR = 2008\n",
    "    CURRENT_YEAR = now.year\n",
    "    latestYearStr = -1\n",
    "    columnNames = list(df)\n",
    "    for year in reversed(range(STARTING_YEAR, CURRENT_YEAR)):\n",
    "        yearStr = str(year)\n",
    "        if yearStr in columnNames:\n",
    "            latestYearStr = yearStr\n",
    "            return latestYearStr\n",
    "    return None\n",
    "        \n",
    "def plotDataFrameHist(dataframe, dataframeName, isXAxisLogBased = False):\n",
    "    dataFrame2Plot = dataframe\n",
    "    if (isXAxisLogBased):\n",
    "        dataFrame2Plot = dataframe.apply(lambda x: math.log10(x))\n",
    "    dataFrame2Plot.hist(bins=50)\n",
    "    titleStr = (\"Log \" if isXAxisLogBased else \"\") + dataframeName\n",
    "    xLabelStr = titleStr + \" da Cidade\"\n",
    "    yLabelStr = \"Numero de Cidades\"\n",
    "    plt.title(titleStr)\n",
    "    plt.xlabel(xLabelStr)\n",
    "    plt.ylabel(yLabelStr)\n",
    "    plt.show()"
   ]
  },
  {
   "cell_type": "code",
   "execution_count": 5,
   "metadata": {
    "collapsed": false
   },
   "outputs": [
    {
     "name": "stdout",
     "output_type": "stream",
     "text": [
      "   Código do Município   2012    2013    2014    2015\n",
      "0              1100015  24069   25728   25652   25578\n",
      "1              1100023  92747  101269  102860  104401\n",
      "2              1100031   6132    6495    6424    6355\n",
      "3              1100049  79330   85863   86556   87226\n",
      "4              1100056  16852   18041   18013   17986\n",
      "5              1100064  18093   19190   19001   18817\n",
      "6              1100072   8530    9036    8938    8842\n",
      "7              1100080  14355   15853   16258   16651\n",
      "8              1100098  29189   31699   32047   32385\n",
      "9              1100106  42202   45761   46203   46632\n"
     ]
    }
   ],
   "source": [
    "cityPopulation = pd.read_csv('./raw_data/FIXO/populacao.tsv', sep='\\t')\n",
    "cityPopulation = cityPopulation.drop(['2011'], axis=1) # one missing entry\n",
    "print(cityPopulation.head(10))"
   ]
  },
  {
   "cell_type": "code",
   "execution_count": 6,
   "metadata": {
    "collapsed": false
   },
   "outputs": [
    {
     "data": {
      "text/html": [
       "<div>\n",
       "<table border=\"1\" class=\"dataframe\">\n",
       "  <thead>\n",
       "    <tr style=\"text-align: right;\">\n",
       "      <th></th>\n",
       "      <th>Código do Município</th>\n",
       "      <th>2012</th>\n",
       "      <th>2013</th>\n",
       "      <th>2014</th>\n",
       "      <th>2015</th>\n",
       "    </tr>\n",
       "  </thead>\n",
       "  <tbody>\n",
       "    <tr>\n",
       "      <th>count</th>\n",
       "      <td>5.565000e+03</td>\n",
       "      <td>5.565000e+03</td>\n",
       "      <td>5.565000e+03</td>\n",
       "      <td>5.565000e+03</td>\n",
       "      <td>5.565000e+03</td>\n",
       "    </tr>\n",
       "    <tr>\n",
       "      <th>mean</th>\n",
       "      <td>3.253053e+06</td>\n",
       "      <td>3.485652e+04</td>\n",
       "      <td>3.612194e+04</td>\n",
       "      <td>3.643392e+04</td>\n",
       "      <td>3.673624e+04</td>\n",
       "    </tr>\n",
       "    <tr>\n",
       "      <th>std</th>\n",
       "      <td>9.845215e+05</td>\n",
       "      <td>2.057822e+05</td>\n",
       "      <td>2.127513e+05</td>\n",
       "      <td>2.142414e+05</td>\n",
       "      <td>2.156927e+05</td>\n",
       "    </tr>\n",
       "    <tr>\n",
       "      <th>min</th>\n",
       "      <td>1.100015e+06</td>\n",
       "      <td>8.070000e+02</td>\n",
       "      <td>8.250000e+02</td>\n",
       "      <td>8.220000e+02</td>\n",
       "      <td>8.180000e+02</td>\n",
       "    </tr>\n",
       "    <tr>\n",
       "      <th>25%</th>\n",
       "      <td>2.512101e+06</td>\n",
       "      <td>5.254000e+03</td>\n",
       "      <td>5.404000e+03</td>\n",
       "      <td>5.430000e+03</td>\n",
       "      <td>5.458000e+03</td>\n",
       "    </tr>\n",
       "    <tr>\n",
       "      <th>50%</th>\n",
       "      <td>3.146206e+06</td>\n",
       "      <td>1.104200e+04</td>\n",
       "      <td>1.139200e+04</td>\n",
       "      <td>1.144900e+04</td>\n",
       "      <td>1.151500e+04</td>\n",
       "    </tr>\n",
       "    <tr>\n",
       "      <th>75%</th>\n",
       "      <td>4.119004e+06</td>\n",
       "      <td>2.374800e+04</td>\n",
       "      <td>2.461300e+04</td>\n",
       "      <td>2.476800e+04</td>\n",
       "      <td>2.499300e+04</td>\n",
       "    </tr>\n",
       "    <tr>\n",
       "      <th>max</th>\n",
       "      <td>5.300108e+06</td>\n",
       "      <td>1.137668e+07</td>\n",
       "      <td>1.182187e+07</td>\n",
       "      <td>1.189589e+07</td>\n",
       "      <td>1.196782e+07</td>\n",
       "    </tr>\n",
       "  </tbody>\n",
       "</table>\n",
       "</div>"
      ],
      "text/plain": [
       "       Código do Município          2012          2013          2014  \\\n",
       "count         5.565000e+03  5.565000e+03  5.565000e+03  5.565000e+03   \n",
       "mean          3.253053e+06  3.485652e+04  3.612194e+04  3.643392e+04   \n",
       "std           9.845215e+05  2.057822e+05  2.127513e+05  2.142414e+05   \n",
       "min           1.100015e+06  8.070000e+02  8.250000e+02  8.220000e+02   \n",
       "25%           2.512101e+06  5.254000e+03  5.404000e+03  5.430000e+03   \n",
       "50%           3.146206e+06  1.104200e+04  1.139200e+04  1.144900e+04   \n",
       "75%           4.119004e+06  2.374800e+04  2.461300e+04  2.476800e+04   \n",
       "max           5.300108e+06  1.137668e+07  1.182187e+07  1.189589e+07   \n",
       "\n",
       "               2015  \n",
       "count  5.565000e+03  \n",
       "mean   3.673624e+04  \n",
       "std    2.156927e+05  \n",
       "min    8.180000e+02  \n",
       "25%    5.458000e+03  \n",
       "50%    1.151500e+04  \n",
       "75%    2.499300e+04  \n",
       "max    1.196782e+07  "
      ]
     },
     "execution_count": 6,
     "metadata": {},
     "output_type": "execute_result"
    }
   ],
   "source": [
    "cityPopulation.describe()"
   ]
  },
  {
   "cell_type": "code",
   "execution_count": 7,
   "metadata": {
    "collapsed": false
   },
   "outputs": [
    {
     "data": {
      "image/png": "[encoded data removed]",
      "text/plain": [
       "<matplotlib.figure.Figure at 0x113f145f8>"
      ]
     },
     "metadata": {},
     "output_type": "display_data"
    }
   ],
   "source": [
    "plotDataFrameHist(cityPopulation[getLatestYear(cityPopulation)], \"Populacao \" + getLatestYear(cityPopulation), isXAxisLogBased = True)"
   ]
  },
  {
   "cell_type": "code",
   "execution_count": 8,
   "metadata": {
    "collapsed": false
   },
   "outputs": [
    {
     "name": "stdout",
     "output_type": "stream",
     "text": [
      "   Código do Município        2009        2010        2011        2012  \\\n",
      "0              1100015   305787952   335699677   348804371   383885476   \n",
      "1              1100023  1041016954  1293582981  1561170194  1537869867   \n",
      "2              1100031   104587877    99413204   117396029   162481926   \n",
      "3              1100049   908920362  1168598490  1274121391  1324657401   \n",
      "4              1100056   237950838   272455593   336194421   443765180   \n",
      "5              1100064   212200949   226199733   238810781   255338915   \n",
      "6              1100072   192822294   195072804   261379437   319419655   \n",
      "7              1100080   120084640   135446440   150581945   166583937   \n",
      "8              1100098   319670909   366780750   425903197   398482670   \n",
      "9              1100106   489996212   650329204   820547724   786513751   \n",
      "\n",
      "         2013        2014  \n",
      "0   340407000   379060308  \n",
      "1  1778919000  1967587044  \n",
      "2    96308000   113031481  \n",
      "3  1415053000  1695899981  \n",
      "4   341314000   326765671  \n",
      "5   242168000   275185120  \n",
      "6   168680000   188217619  \n",
      "7   149648000   171877968  \n",
      "8   421711000   498358098  \n",
      "9   767600000   667538864  \n"
     ]
    }
   ],
   "source": [
    "cityPIB = pd.read_csv('./raw_data/FIXO/pib.tsv', sep='\\t')\n",
    "cityPIB = cityPIB.drop(['2008'], axis=1) # one missing entry\n",
    "print(cityPIB.head(10))"
   ]
  },
  {
   "cell_type": "code",
   "execution_count": 9,
   "metadata": {
    "collapsed": false
   },
   "outputs": [
    {
     "data": {
      "text/html": [
       "<div>\n",
       "<table border=\"1\" class=\"dataframe\">\n",
       "  <thead>\n",
       "    <tr style=\"text-align: right;\">\n",
       "      <th></th>\n",
       "      <th>Código do Município</th>\n",
       "      <th>2009</th>\n",
       "      <th>2010</th>\n",
       "      <th>2011</th>\n",
       "      <th>2012</th>\n",
       "      <th>2013</th>\n",
       "      <th>2014</th>\n",
       "    </tr>\n",
       "  </thead>\n",
       "  <tbody>\n",
       "    <tr>\n",
       "      <th>count</th>\n",
       "      <td>5.565000e+03</td>\n",
       "      <td>5.565000e+03</td>\n",
       "      <td>5.565000e+03</td>\n",
       "      <td>5.565000e+03</td>\n",
       "      <td>5.565000e+03</td>\n",
       "      <td>5.565000e+03</td>\n",
       "      <td>5.565000e+03</td>\n",
       "    </tr>\n",
       "    <tr>\n",
       "      <th>mean</th>\n",
       "      <td>3.253053e+06</td>\n",
       "      <td>5.821032e+08</td>\n",
       "      <td>6.774636e+08</td>\n",
       "      <td>7.444768e+08</td>\n",
       "      <td>7.892352e+08</td>\n",
       "      <td>9.552098e+08</td>\n",
       "      <td>1.038297e+09</td>\n",
       "    </tr>\n",
       "    <tr>\n",
       "      <th>std</th>\n",
       "      <td>9.845215e+05</td>\n",
       "      <td>6.319017e+09</td>\n",
       "      <td>7.199768e+09</td>\n",
       "      <td>7.850044e+09</td>\n",
       "      <td>8.167306e+09</td>\n",
       "      <td>9.506898e+09</td>\n",
       "      <td>1.038009e+10</td>\n",
       "    </tr>\n",
       "    <tr>\n",
       "      <th>min</th>\n",
       "      <td>1.100015e+06</td>\n",
       "      <td>5.766740e+06</td>\n",
       "      <td>7.217226e+06</td>\n",
       "      <td>9.838036e+06</td>\n",
       "      <td>8.342569e+06</td>\n",
       "      <td>9.678000e+06</td>\n",
       "      <td>1.167510e+07</td>\n",
       "    </tr>\n",
       "    <tr>\n",
       "      <th>25%</th>\n",
       "      <td>2.512101e+06</td>\n",
       "      <td>3.861528e+07</td>\n",
       "      <td>4.461285e+07</td>\n",
       "      <td>4.934961e+07</td>\n",
       "      <td>5.243891e+07</td>\n",
       "      <td>5.925000e+07</td>\n",
       "      <td>6.423790e+07</td>\n",
       "    </tr>\n",
       "    <tr>\n",
       "      <th>50%</th>\n",
       "      <td>3.146206e+06</td>\n",
       "      <td>8.113628e+07</td>\n",
       "      <td>9.339894e+07</td>\n",
       "      <td>1.030712e+08</td>\n",
       "      <td>1.097338e+08</td>\n",
       "      <td>1.301470e+08</td>\n",
       "      <td>1.427285e+08</td>\n",
       "    </tr>\n",
       "    <tr>\n",
       "      <th>75%</th>\n",
       "      <td>4.119004e+06</td>\n",
       "      <td>2.081084e+08</td>\n",
       "      <td>2.386932e+08</td>\n",
       "      <td>2.653218e+08</td>\n",
       "      <td>2.819383e+08</td>\n",
       "      <td>3.437950e+08</td>\n",
       "      <td>3.786176e+08</td>\n",
       "    </tr>\n",
       "    <tr>\n",
       "      <th>max</th>\n",
       "      <td>5.300108e+06</td>\n",
       "      <td>3.892849e+11</td>\n",
       "      <td>4.435176e+11</td>\n",
       "      <td>4.821281e+11</td>\n",
       "      <td>4.993754e+11</td>\n",
       "      <td>5.707062e+11</td>\n",
       "      <td>6.280649e+11</td>\n",
       "    </tr>\n",
       "  </tbody>\n",
       "</table>\n",
       "</div>"
      ],
      "text/plain": [
       "       Código do Município          2009          2010          2011  \\\n",
       "count         5.565000e+03  5.565000e+03  5.565000e+03  5.565000e+03   \n",
       "mean          3.253053e+06  5.821032e+08  6.774636e+08  7.444768e+08   \n",
       "std           9.845215e+05  6.319017e+09  7.199768e+09  7.850044e+09   \n",
       "min           1.100015e+06  5.766740e+06  7.217226e+06  9.838036e+06   \n",
       "25%           2.512101e+06  3.861528e+07  4.461285e+07  4.934961e+07   \n",
       "50%           3.146206e+06  8.113628e+07  9.339894e+07  1.030712e+08   \n",
       "75%           4.119004e+06  2.081084e+08  2.386932e+08  2.653218e+08   \n",
       "max           5.300108e+06  3.892849e+11  4.435176e+11  4.821281e+11   \n",
       "\n",
       "               2012          2013          2014  \n",
       "count  5.565000e+03  5.565000e+03  5.565000e+03  \n",
       "mean   7.892352e+08  9.552098e+08  1.038297e+09  \n",
       "std    8.167306e+09  9.506898e+09  1.038009e+10  \n",
       "min    8.342569e+06  9.678000e+06  1.167510e+07  \n",
       "25%    5.243891e+07  5.925000e+07  6.423790e+07  \n",
       "50%    1.097338e+08  1.301470e+08  1.427285e+08  \n",
       "75%    2.819383e+08  3.437950e+08  3.786176e+08  \n",
       "max    4.993754e+11  5.707062e+11  6.280649e+11  "
      ]
     },
     "execution_count": 9,
     "metadata": {},
     "output_type": "execute_result"
    }
   ],
   "source": [
    "cityPIB.describe()"
   ]
  },
  {
   "cell_type": "code",
   "execution_count": 10,
   "metadata": {
    "collapsed": false
   },
   "outputs": [
    {
     "data": {
      "image/png": "[encoded data removed]",
      "text/plain": [
       "<matplotlib.figure.Figure at 0x114642f60>"
      ]
     },
     "metadata": {},
     "output_type": "display_data"
    }
   ],
   "source": [
    "plotDataFrameHist(cityPIB[getLatestYear(cityPIB)], \"PIB \" + getLatestYear(cityPIB), isXAxisLogBased = True)"
   ]
  },
  {
   "cell_type": "code",
   "execution_count": 11,
   "metadata": {
    "collapsed": false
   },
   "outputs": [
    {
     "name": "stdout",
     "output_type": "stream",
     "text": [
      "   Código do Município     2009     2010     2011     2012     2013     2014\n",
      "0              1100015   892.92   998.03  1122.35  1196.18  1125.91  1409.42\n",
      "1              1100023  1011.48  1121.92  1232.81  1278.16  1423.20  1490.65\n",
      "2              1100031   905.65   971.17  1086.92  1183.74  1258.31  1285.64\n",
      "3              1100049  1016.64  1094.86  1255.51  1599.84  1494.76  1533.24\n",
      "4              1100056   909.28   951.82  1057.99  1200.41  1399.36  1456.51\n",
      "5              1100064   979.54   914.90   992.16  1058.23  1213.95  1305.01\n",
      "6              1100072   907.44   989.29  1145.49  1182.00  1314.74  1430.71\n",
      "7              1100080   870.50   826.84  1268.53  1098.64  1185.99  1333.96\n",
      "8              1100098   883.74  1029.49  1081.98  1197.75  1280.77  1378.26\n",
      "9              1100106  1062.93  1180.31  1218.17  1374.49  1419.74  1505.42\n"
     ]
    }
   ],
   "source": [
    "cityRendaMedia = pd.read_csv('./raw_data/FIXO/renda_media.tsv', sep='\\t')\n",
    "# cityRendaMedia = pd.read_csv('./raw_data/FIXO/renda_media.tsv', sep='\\t', converters={'2009':int64})\n",
    "print(cityRendaMedia.head(10))"
   ]
  },
  {
   "cell_type": "code",
   "execution_count": 12,
   "metadata": {
    "collapsed": false
   },
   "outputs": [
    {
     "data": {
      "text/html": [
       "<div>\n",
       "<table border=\"1\" class=\"dataframe\">\n",
       "  <thead>\n",
       "    <tr style=\"text-align: right;\">\n",
       "      <th></th>\n",
       "      <th>Código do Município</th>\n",
       "      <th>2009</th>\n",
       "      <th>2010</th>\n",
       "      <th>2011</th>\n",
       "      <th>2012</th>\n",
       "      <th>2013</th>\n",
       "      <th>2014</th>\n",
       "    </tr>\n",
       "  </thead>\n",
       "  <tbody>\n",
       "    <tr>\n",
       "      <th>count</th>\n",
       "      <td>5.565000e+03</td>\n",
       "      <td>5565.000000</td>\n",
       "      <td>5565.000000</td>\n",
       "      <td>5565.000000</td>\n",
       "      <td>5565.000000</td>\n",
       "      <td>5565.000000</td>\n",
       "      <td>5565.000000</td>\n",
       "    </tr>\n",
       "    <tr>\n",
       "      <th>mean</th>\n",
       "      <td>3.253053e+06</td>\n",
       "      <td>908.086609</td>\n",
       "      <td>998.643387</td>\n",
       "      <td>1114.409279</td>\n",
       "      <td>1214.343714</td>\n",
       "      <td>1356.832751</td>\n",
       "      <td>1472.056656</td>\n",
       "    </tr>\n",
       "    <tr>\n",
       "      <th>std</th>\n",
       "      <td>9.845215e+05</td>\n",
       "      <td>281.331983</td>\n",
       "      <td>302.717138</td>\n",
       "      <td>326.755013</td>\n",
       "      <td>376.707387</td>\n",
       "      <td>379.008356</td>\n",
       "      <td>400.824990</td>\n",
       "    </tr>\n",
       "    <tr>\n",
       "      <th>min</th>\n",
       "      <td>1.100015e+06</td>\n",
       "      <td>0.000000</td>\n",
       "      <td>0.000000</td>\n",
       "      <td>39.570000</td>\n",
       "      <td>19.380000</td>\n",
       "      <td>133.180000</td>\n",
       "      <td>331.940000</td>\n",
       "    </tr>\n",
       "    <tr>\n",
       "      <th>25%</th>\n",
       "      <td>2.512101e+06</td>\n",
       "      <td>737.960000</td>\n",
       "      <td>818.320000</td>\n",
       "      <td>914.720000</td>\n",
       "      <td>1003.370000</td>\n",
       "      <td>1126.400000</td>\n",
       "      <td>1219.930000</td>\n",
       "    </tr>\n",
       "    <tr>\n",
       "      <th>50%</th>\n",
       "      <td>3.146206e+06</td>\n",
       "      <td>858.750000</td>\n",
       "      <td>941.670000</td>\n",
       "      <td>1054.860000</td>\n",
       "      <td>1151.220000</td>\n",
       "      <td>1292.000000</td>\n",
       "      <td>1398.880000</td>\n",
       "    </tr>\n",
       "    <tr>\n",
       "      <th>75%</th>\n",
       "      <td>4.119004e+06</td>\n",
       "      <td>1010.490000</td>\n",
       "      <td>1106.830000</td>\n",
       "      <td>1229.760000</td>\n",
       "      <td>1345.100000</td>\n",
       "      <td>1490.700000</td>\n",
       "      <td>1624.130000</td>\n",
       "    </tr>\n",
       "    <tr>\n",
       "      <th>max</th>\n",
       "      <td>5.300108e+06</td>\n",
       "      <td>5270.130000</td>\n",
       "      <td>5329.100000</td>\n",
       "      <td>4991.250000</td>\n",
       "      <td>6112.470000</td>\n",
       "      <td>6820.720000</td>\n",
       "      <td>5693.760000</td>\n",
       "    </tr>\n",
       "  </tbody>\n",
       "</table>\n",
       "</div>"
      ],
      "text/plain": [
       "       Código do Município         2009         2010         2011  \\\n",
       "count         5.565000e+03  5565.000000  5565.000000  5565.000000   \n",
       "mean          3.253053e+06   908.086609   998.643387  1114.409279   \n",
       "std           9.845215e+05   281.331983   302.717138   326.755013   \n",
       "min           1.100015e+06     0.000000     0.000000    39.570000   \n",
       "25%           2.512101e+06   737.960000   818.320000   914.720000   \n",
       "50%           3.146206e+06   858.750000   941.670000  1054.860000   \n",
       "75%           4.119004e+06  1010.490000  1106.830000  1229.760000   \n",
       "max           5.300108e+06  5270.130000  5329.100000  4991.250000   \n",
       "\n",
       "              2012         2013         2014  \n",
       "count  5565.000000  5565.000000  5565.000000  \n",
       "mean   1214.343714  1356.832751  1472.056656  \n",
       "std     376.707387   379.008356   400.824990  \n",
       "min      19.380000   133.180000   331.940000  \n",
       "25%    1003.370000  1126.400000  1219.930000  \n",
       "50%    1151.220000  1292.000000  1398.880000  \n",
       "75%    1345.100000  1490.700000  1624.130000  \n",
       "max    6112.470000  6820.720000  5693.760000  "
      ]
     },
     "execution_count": 12,
     "metadata": {},
     "output_type": "execute_result"
    }
   ],
   "source": [
    "cityRendaMedia.describe()"
   ]
  },
  {
   "cell_type": "code",
   "execution_count": 13,
   "metadata": {
    "collapsed": false
   },
   "outputs": [
    {
     "data": {
      "image/png": "[encoded data removed]",
      "text/plain": [
       "<matplotlib.figure.Figure at 0x11409a8d0>"
      ]
     },
     "metadata": {},
     "output_type": "display_data"
    }
   ],
   "source": [
    "plotDataFrameHist(cityRendaMedia[getLatestYear(cityRendaMedia)], \"Renda Media \" + getLatestYear(cityRendaMedia))"
   ]
  },
  {
   "cell_type": "code",
   "execution_count": 14,
   "metadata": {
    "collapsed": false
   },
   "outputs": [
    {
     "name": "stdout",
     "output_type": "stream",
     "text": [
      "Correlation Population, PIB\n",
      " 0.964844768203\n",
      "Correlation Population, Renda Media\n",
      " 0.228116176574\n",
      "Correlation PIB, Renda Media\n",
      " 0.225084784923\n"
     ]
    }
   ],
   "source": [
    "#Correlation between the series for 2014\n",
    "cityPopulationLastYear = cityPopulation[getLatestYear(cityPopulation)]\n",
    "cityPIBLastYear = cityPIB[getLatestYear(cityPIB)]\n",
    "cityRendaMediaLastYear = cityRendaMedia[getLatestYear(cityRendaMedia)]\n",
    "\n",
    "print(\"Correlation Population, PIB\\n\", cityPopulationLastYear.corr(cityPIBLastYear))\n",
    "print(\"Correlation Population, Renda Media\\n\", cityPopulationLastYear.corr(cityRendaMediaLastYear))\n",
    "print(\"Correlation PIB, Renda Media\\n\", cityPIBLastYear.corr(cityRendaMediaLastYear))\n",
    "\n",
    "# Comment: PIB e Populacao tem uma grande correlacao ~0.96"
   ]
  },
  {
   "cell_type": "code",
   "execution_count": 15,
   "metadata": {
    "collapsed": false
   },
   "outputs": [
    {
     "name": "stdout",
     "output_type": "stream",
     "text": [
      "Correlation PIB/Pop, Population\n",
      " 0.079111288933\n",
      "Correlation PIB/Pop, PIB\n",
      " 0.125025947316\n",
      "Correlation PIB/Pop, Renda Media\n",
      " 0.476156561185\n"
     ]
    }
   ],
   "source": [
    "# Adding a derived series cityPIBOverPop\n",
    "cityPIBOverPop = cityPIBLastYear / cityPopulationLastYear\n",
    "print(\"Correlation PIB/Pop, Population\\n\", cityPopulationLastYear.corr(cityPIBOverPop))\n",
    "print(\"Correlation PIB/Pop, PIB\\n\", cityPIBLastYear.corr(cityPIBOverPop))\n",
    "print(\"Correlation PIB/Pop, Renda Media\\n\", cityRendaMediaLastYear.corr(cityPIBOverPop))"
   ]
  },
  {
   "cell_type": "code",
   "execution_count": 16,
   "metadata": {
    "collapsed": false
   },
   "outputs": [
    {
     "data": {
      "text/html": [
       "<div>\n",
       "<table border=\"1\" class=\"dataframe\">\n",
       "  <thead>\n",
       "    <tr style=\"text-align: right;\">\n",
       "      <th></th>\n",
       "      <th>AC</th>\n",
       "      <th>AL</th>\n",
       "      <th>AM</th>\n",
       "      <th>AP</th>\n",
       "      <th>BA</th>\n",
       "      <th>CE</th>\n",
       "      <th>DF</th>\n",
       "      <th>ES</th>\n",
       "      <th>GO</th>\n",
       "      <th>MA</th>\n",
       "      <th>...</th>\n",
       "      <th>PR</th>\n",
       "      <th>RJ</th>\n",
       "      <th>RN</th>\n",
       "      <th>RO</th>\n",
       "      <th>RR</th>\n",
       "      <th>RS</th>\n",
       "      <th>SC</th>\n",
       "      <th>SE</th>\n",
       "      <th>SP</th>\n",
       "      <th>TO</th>\n",
       "    </tr>\n",
       "  </thead>\n",
       "  <tbody>\n",
       "    <tr>\n",
       "      <th>0</th>\n",
       "      <td>0</td>\n",
       "      <td>0</td>\n",
       "      <td>0</td>\n",
       "      <td>0</td>\n",
       "      <td>0</td>\n",
       "      <td>0</td>\n",
       "      <td>0</td>\n",
       "      <td>0</td>\n",
       "      <td>0</td>\n",
       "      <td>0</td>\n",
       "      <td>...</td>\n",
       "      <td>0</td>\n",
       "      <td>0</td>\n",
       "      <td>0</td>\n",
       "      <td>1</td>\n",
       "      <td>0</td>\n",
       "      <td>0</td>\n",
       "      <td>0</td>\n",
       "      <td>0</td>\n",
       "      <td>0</td>\n",
       "      <td>0</td>\n",
       "    </tr>\n",
       "    <tr>\n",
       "      <th>1</th>\n",
       "      <td>0</td>\n",
       "      <td>0</td>\n",
       "      <td>0</td>\n",
       "      <td>0</td>\n",
       "      <td>0</td>\n",
       "      <td>0</td>\n",
       "      <td>0</td>\n",
       "      <td>0</td>\n",
       "      <td>0</td>\n",
       "      <td>0</td>\n",
       "      <td>...</td>\n",
       "      <td>0</td>\n",
       "      <td>0</td>\n",
       "      <td>0</td>\n",
       "      <td>1</td>\n",
       "      <td>0</td>\n",
       "      <td>0</td>\n",
       "      <td>0</td>\n",
       "      <td>0</td>\n",
       "      <td>0</td>\n",
       "      <td>0</td>\n",
       "    </tr>\n",
       "    <tr>\n",
       "      <th>2</th>\n",
       "      <td>0</td>\n",
       "      <td>0</td>\n",
       "      <td>0</td>\n",
       "      <td>0</td>\n",
       "      <td>0</td>\n",
       "      <td>0</td>\n",
       "      <td>0</td>\n",
       "      <td>0</td>\n",
       "      <td>0</td>\n",
       "      <td>0</td>\n",
       "      <td>...</td>\n",
       "      <td>0</td>\n",
       "      <td>0</td>\n",
       "      <td>0</td>\n",
       "      <td>1</td>\n",
       "      <td>0</td>\n",
       "      <td>0</td>\n",
       "      <td>0</td>\n",
       "      <td>0</td>\n",
       "      <td>0</td>\n",
       "      <td>0</td>\n",
       "    </tr>\n",
       "  </tbody>\n",
       "</table>\n",
       "<p>3 rows × 27 columns</p>\n",
       "</div>"
      ],
      "text/plain": [
       "   AC  AL  AM  AP  BA  CE  DF  ES  GO  MA ...  PR  RJ  RN  RO  RR  RS  SC  SE  \\\n",
       "0   0   0   0   0   0   0   0   0   0   0 ...   0   0   0   1   0   0   0   0   \n",
       "1   0   0   0   0   0   0   0   0   0   0 ...   0   0   0   1   0   0   0   0   \n",
       "2   0   0   0   0   0   0   0   0   0   0 ...   0   0   0   1   0   0   0   0   \n",
       "\n",
       "   SP  TO  \n",
       "0   0   0  \n",
       "1   0   0  \n",
       "2   0   0  \n",
       "\n",
       "[3 rows x 27 columns]"
      ]
     },
     "execution_count": 16,
     "metadata": {},
     "output_type": "execute_result"
    }
   ],
   "source": [
    "# converting state categorical to vectorized binary form AC: 0, AL:0, ... SP:1, ...TO:0\n",
    "cityStateMatrix = pd.get_dummies(cityMetadata['UF'])\n",
    "cityStateMatrix.head(3)"
   ]
  },
  {
   "cell_type": "code",
   "execution_count": 17,
   "metadata": {
    "collapsed": false
   },
   "outputs": [
    {
     "name": "stdout",
     "output_type": "stream",
     "text": [
      "Correlation States, Population\n",
      " AC   -0.000153\n",
      "AL   -0.002467\n",
      "AM    0.012905\n",
      "AP    0.002631\n",
      "BA   -0.000212\n",
      "CE    0.010035\n",
      "DF    0.176224\n",
      "ES    0.007444\n",
      "GO   -0.009955\n",
      "MA   -0.004573\n",
      "MG   -0.024085\n",
      "MS   -0.001621\n",
      "MT   -0.010210\n",
      "PA    0.015265\n",
      "PB   -0.017881\n",
      "PE    0.011873\n",
      "PI   -0.021196\n",
      "PR   -0.011235\n",
      "RJ    0.086240\n",
      "RN   -0.013156\n",
      "RO   -0.001273\n",
      "RR   -0.000802\n",
      "RS   -0.020216\n",
      "SC   -0.014909\n",
      "SE   -0.003732\n",
      "SP    0.053812\n",
      "TO   -0.019175\n",
      "dtype: float64\n",
      "Correlation States, PIB\n",
      " AC   -0.002589\n",
      "AL   -0.008381\n",
      "AM    0.003677\n",
      "AP   -0.001039\n",
      "BA   -0.013746\n",
      "CE   -0.006293\n",
      "DF    0.253672\n",
      "ES    0.007039\n",
      "GO   -0.007615\n",
      "MA   -0.013278\n",
      "MG   -0.017735\n",
      "MS   -0.000351\n",
      "MT   -0.004976\n",
      "PA   -0.002639\n",
      "PB   -0.015766\n",
      "PE   -0.003568\n",
      "PI   -0.017164\n",
      "PR   -0.004442\n",
      "RJ    0.078148\n",
      "RN   -0.012113\n",
      "RO   -0.003592\n",
      "RR   -0.001947\n",
      "RS   -0.009553\n",
      "SC   -0.004798\n",
      "SE   -0.006066\n",
      "SP    0.064280\n",
      "TO   -0.013106\n",
      "dtype: float64\n",
      "Correlation States, RendaMedia\n",
      " AC   -0.007055\n",
      "AL   -0.047087\n",
      "AM   -0.032097\n",
      "AP    0.034818\n",
      "BA   -0.100915\n",
      "CE   -0.144401\n",
      "DF    0.092091\n",
      "ES    0.018235\n",
      "GO    0.014334\n",
      "MA   -0.083212\n",
      "MG   -0.165685\n",
      "MS    0.036592\n",
      "MT    0.099311\n",
      "PA   -0.016029\n",
      "PB   -0.135097\n",
      "PE   -0.077305\n",
      "PI   -0.077374\n",
      "PR    0.051302\n",
      "RJ    0.085843\n",
      "RN   -0.079405\n",
      "RO   -0.006964\n",
      "RR   -0.014736\n",
      "RS    0.181036\n",
      "SC    0.099454\n",
      "SE    0.028660\n",
      "SP    0.297209\n",
      "TO   -0.084083\n",
      "dtype: float64\n",
      "Correlation States, PIB/Pop\n",
      " AC   -0.018248\n",
      "AL   -0.064899\n",
      "AM   -0.046610\n",
      "AP   -0.009731\n",
      "BA   -0.121450\n",
      "CE   -0.088522\n",
      "DF    0.032003\n",
      "ES    0.083765\n",
      "GO    0.041009\n",
      "MA   -0.101619\n",
      "MG   -0.049475\n",
      "MS    0.063826\n",
      "MT    0.084983\n",
      "PA   -0.055729\n",
      "PB   -0.099985\n",
      "PE   -0.078400\n",
      "PI   -0.107330\n",
      "PR    0.072943\n",
      "RJ    0.120929\n",
      "RN   -0.066041\n",
      "RO   -0.012824\n",
      "RR   -0.012312\n",
      "RS    0.142882\n",
      "SC    0.111241\n",
      "SE   -0.025848\n",
      "SP    0.142303\n",
      "TO   -0.029788\n",
      "dtype: float64\n"
     ]
    }
   ],
   "source": [
    "print(\"Correlation States, Population\\n\", cityStateMatrix.corrwith(cityPopulationLastYear))\n",
    "print(\"Correlation States, PIB\\n\", cityStateMatrix.corrwith(cityPIBLastYear))\n",
    "print(\"Correlation States, RendaMedia\\n\", cityStateMatrix.corrwith(cityRendaMediaLastYear))\n",
    "print(\"Correlation States, PIB/Pop\\n\", cityStateMatrix.corrwith(cityPIBOverPop))"
   ]
  }
 ],
 "metadata": {
  "kernelspec": {
   "display_name": "Python 3",
   "language": "python",
   "name": "python3"
  },
  "language_info": {
   "codemirror_mode": {
    "name": "ipython",
    "version": 3
   },
   "file_extension": ".py",
   "mimetype": "text/x-python",
   "name": "python",
   "nbconvert_exporter": "python",
   "pygments_lexer": "ipython3",
   "version": "3.6.0"
  }
 },
 "nbformat": 4,
 "nbformat_minor": 2
}
